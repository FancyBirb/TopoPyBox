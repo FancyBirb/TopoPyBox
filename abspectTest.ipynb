{
 "cells": [
  {
   "cell_type": "code",
   "execution_count": null,
   "id": "5487a9b8-60af-4b21-bb79-ffc5bd71f0fa",
   "metadata": {},
   "outputs": [],
   "source": [
    "import numpy as np\n",
    "import matplotlib.pyplot as plt\n",
    "from PIL import Image\n",
    "\n",
    "# eigenenes Package\n",
    "import libPy as topo"
   ]
  },
  {
   "cell_type": "code",
   "execution_count": null,
   "id": "5be2d806-5c4e-44a2-8ce7-a3cd6844fa47",
   "metadata": {},
   "outputs": [],
   "source": [
    "input_matrix = np.array([\n",
    "    [3, 1, 2, 4, 7],\n",
    "    [5, 4, 5, 7, 10],\n",
    "    [7, 6, 8, 11, 12],\n",
    "    [11, 8, 10, 13, 12],\n",
    "    [13, 10, 15, 14, 13]\n",
    "], dtype=np.float32)\n",
    "plt.imshow(input_matrix, cmap='terrain', interpolation='nearest')\n",
    "plt.colorbar()\n",
    "plt.show()"
   ]
  },
  {
   "cell_type": "code",
   "execution_count": null,
   "id": "2e53c96c-5b2f-4e3e-9b3e-8dda700100f0",
   "metadata": {},
   "outputs": [],
   "source": [
    "result = topo.aspect(input_matrix)\n",
    "\n",
    "plt.imshow(result, cmap='plasma', interpolation='nearest')\n",
    "plt.colorbar()\n",
    "plt.show()"
   ]
  },
  {
   "cell_type": "code",
   "execution_count": null,
   "id": "875ab769-c968-43a2-8514-d404a259a51e",
   "metadata": {},
   "outputs": [],
   "source": [
    "harz = Image.open(\"/home/theo/Documents/Praktikum/TopoPyBox/Harz_utm.tif\")\n",
    "harz_arr = np.array(harz)\n",
    "\n",
    "plt.imshow(harz_arr, cmap='terrain', interpolation='nearest')\n",
    "plt.colorbar()\n",
    "plt.show()"
   ]
  },
  {
   "cell_type": "code",
   "execution_count": null,
   "id": "907e7634-172a-4758-9ee2-3428138b44a7",
   "metadata": {},
   "outputs": [],
   "source": [
    "harz_gradient8 = topo.aspect(harz_arr)\n",
    "\n",
    "plt.imshow(harz_gradient8, cmap='plasma', interpolation='nearest')\n",
    "plt.colorbar()\n",
    "plt.show()"
   ]
  }
 ],
 "metadata": {
  "kernelspec": {
   "display_name": "Python 3 (ipykernel)",
   "language": "python",
   "name": "python3"
  },
  "language_info": {
   "codemirror_mode": {
    "name": "ipython",
    "version": 3
   },
   "file_extension": ".py",
   "mimetype": "text/x-python",
   "name": "python",
   "nbconvert_exporter": "python",
   "pygments_lexer": "ipython3",
   "version": "3.10.12"
  }
 },
 "nbformat": 4,
 "nbformat_minor": 5
}
