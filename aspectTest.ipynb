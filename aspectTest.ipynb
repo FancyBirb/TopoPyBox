{
 "cells": [
  {
   "cell_type": "code",
   "execution_count": null,
   "metadata": {},
   "outputs": [],
   "source": [
    "import numpy as np\n",
    "import matplotlib.pyplot as plt\n",
    "from PIL import Image\n",
    "from pyBox import aspect"
   ]
  },
  {
   "cell_type": "code",
   "execution_count": null,
   "metadata": {},
   "outputs": [],
   "source": [
    "matrix = np.array([\n",
    "    [3.0, 1.0, 2.0, 4.0, 7.0],\n",
    "    [5.0, 4.0, 5.0, 7, 10.0],\n",
    "    [7.0, 6.0, 8.0, 11.0, 12],\n",
    "    [11.0, 8.0, 10.0, 13.0, 12.0],\n",
    "    [13.0, 10.0, 15.0, 14.0, 13.0]\n",
    "], dtype=np.float32)\n",
    "plt.imshow(matrix, cmap='terrain', interpolation='nearest')\n",
    "plt.colorbar()\n",
    "plt.show()"
   ]
  },
  {
   "cell_type": "code",
   "execution_count": null,
   "metadata": {},
   "outputs": [],
   "source": [
    "result = aspect.aspect(matrix)\n",
    "plt.imshow(result, cmap='plasma', interpolation='nearest')\n",
    "plt.colorbar()\n",
    "plt.show()"
   ]
  }
 ],
 "metadata": {
  "kernelspec": {
   "display_name": "Python 3",
   "language": "python",
   "name": "python3"
  },
  "language_info": {
   "codemirror_mode": {
    "name": "ipython",
    "version": 3
   },
   "file_extension": ".py",
   "mimetype": "text/x-python",
   "name": "python",
   "nbconvert_exporter": "python",
   "pygments_lexer": "ipython3",
   "version": "3.10.12"
  }
 },
 "nbformat": 4,
 "nbformat_minor": 2
}
